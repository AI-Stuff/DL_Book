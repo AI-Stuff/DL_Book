{
  "nbformat": 4,
  "nbformat_minor": 0,
  "metadata": {
    "kernelspec": {
      "display_name": "Python 3",
      "language": "python",
      "name": "python3"
    },
    "language_info": {
      "codemirror_mode": {
        "name": "ipython",
        "version": 3
      },
      "file_extension": ".py",
      "mimetype": "text/x-python",
      "name": "python",
      "nbconvert_exporter": "python",
      "pygments_lexer": "ipython3",
      "version": "3.6.5"
    },
    "colab": {
      "name": "blackboard_effect.ipynb",
      "provenance": [],
      "collapsed_sections": [],
      "include_colab_link": true
    }
  },
  "cells": [
    {
      "cell_type": "markdown",
      "metadata": {
        "id": "view-in-github",
        "colab_type": "text"
      },
      "source": [
        "<a href=\"https://colab.research.google.com/github/mgntprg/DL_Book/blob/master/blackboard_effect.ipynb\" target=\"_parent\"><img src=\"https://colab.research.google.com/assets/colab-badge.svg\" alt=\"Open In Colab\"/></a>"
      ]
    },
    {
      "cell_type": "code",
      "metadata": {
        "id": "c37kk8cDMvle",
        "colab_type": "code",
        "colab": {
          "base_uri": "https://localhost:8080/",
          "height": 34
        },
        "outputId": "e0b0c71d-4518-4a73-9a5e-bd64bb7b078b"
      },
      "source": [
        "from google.colab import drive\n",
        "drive.mount('/content/gdrive/')"
      ],
      "execution_count": 1,
      "outputs": [
        {
          "output_type": "stream",
          "text": [
            "Drive already mounted at /content/gdrive/; to attempt to forcibly remount, call drive.mount(\"/content/gdrive/\", force_remount=True).\n"
          ],
          "name": "stdout"
        }
      ]
    },
    {
      "cell_type": "code",
      "metadata": {
        "id": "7ZWgtF_3Dygx",
        "colab_type": "code",
        "colab": {}
      },
      "source": [
        "input_location = r'gdrive/My Drive/ML/Projects/Blackboard_effect/images/unmodified_imgs'\n",
        "move_location = r'gdrive/My Drive/ML/Projects/Blackboard_effect/images/used_imgs'"
      ],
      "execution_count": 0,
      "outputs": []
    },
    {
      "cell_type": "markdown",
      "metadata": {
        "id": "w-TnnkYvMvll",
        "colab_type": "text"
      },
      "source": [
        "Grayscale the image and then use thresholding to get the words. Use bitwise not (converting black to white and vice versa) to get the black board effect."
      ]
    },
    {
      "cell_type": "code",
      "metadata": {
        "id": "a5q_kksFD8zZ",
        "colab_type": "code",
        "colab": {}
      },
      "source": [
        "import os\n",
        "from PIL import Image\n",
        "import numpy as np\n",
        "import cv2\n",
        "\n",
        "for imge in os.listdir(input_location):\n",
        "  # open from unmodified images folder and resize it \n",
        "  image = Image.open(os.path.join(input_location, imge))\n",
        "  new_image = image.resize((600, 600))\n",
        "\n",
        "  # save it to inputs folder\n",
        "  new_image.save(os.path.join(r'gdrive/My Drive/ML/Projects/Blackboard_effect/images/input', imge))\n",
        "\n",
        "  # read in from inputs\n",
        "  img = cv2.imread(os.path.join(r'gdrive/My Drive/ML/Projects/Blackboard_effect/images/input', imge))\n",
        "\n",
        "  hsv = cv2.cvtColor(img, cv2.COLOR_BGR2HSV)\n",
        "\n",
        "\n",
        "  #cv2.imshow('img', img)\n",
        "  #cv2.waitKey(0)\n",
        "\n",
        "  grayscaled = cv2.cvtColor(img,cv2.COLOR_BGR2GRAY)\n",
        "  # anything within the given range is converted to white\n",
        "  img2 = cv2.inRange(grayscaled, 110, 255)\n",
        "\n",
        "  # white becomes black and black becomes white\n",
        "  # blackboard effect\n",
        "  img3 = cv2.bitwise_not(img2)\n",
        "\n",
        "  # smooth\n",
        "  median = cv2.medianBlur(img3,1)\n",
        "  \n",
        "  #cv2.imshow('Median Blur',median)\n",
        "  #cv2.waitKey(0)\n",
        "\n",
        "  cv2.imwrite(os.path.join(r'gdrive/My Drive/ML/Projects/Blackboard_effect/images/semi-output', imge), img3)\n",
        "\n",
        "cv2.destroyAllWindows()\n",
        "\n"
      ],
      "execution_count": 0,
      "outputs": []
    },
    {
      "cell_type": "markdown",
      "metadata": {
        "id": "y-7iQpYCMvlp",
        "colab_type": "text"
      },
      "source": [
        "Make a model which applies the filter onto an input image (this is in the other notebook)."
      ]
    }
  ]
}